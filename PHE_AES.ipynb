{
 "cells": [
  {
   "cell_type": "markdown",
   "metadata": {},
   "source": [
    "# Partly homomorphic encryption"
   ]
  },
  {
   "cell_type": "code",
   "execution_count": 17,
   "metadata": {
    "collapsed": false
   },
   "outputs": [
    {
     "name": "stdout",
     "output_type": "stream",
     "text": [
      "2838.699999999986\n",
      "[312.9, 300, -4.6e-12]\n"
     ]
    }
   ],
   "source": [
    "from phe import paillier\n",
    "import numpy as np\n",
    "\n",
    "public_key, private_key = paillier.generate_paillier_keypair()\n",
    "secret_number_list = [312.9, 300, -4.6e-12]\n",
    "encrypted_number_list = [public_key.encrypt(x) for x in secret_number_list]\n",
    "encrypted_number_list[1]\n",
    "s = 3*sum(encrypted_number_list) + 1000\n",
    "print (private_key.decrypt(s))\n",
    "print ([private_key.decrypt(x) for x in encrypted_number_list])"
   ]
  },
  {
   "cell_type": "markdown",
   "metadata": {},
   "source": [
    "## AES  (Advanced Encryption Standard)  symmetric cipher"
   ]
  },
  {
   "cell_type": "code",
   "execution_count": 18,
   "metadata": {
    "collapsed": false
   },
   "outputs": [
    {
     "name": "stdout",
     "output_type": "stream",
     "text": [
      "Encrypted string: b'TyDwdHtX5NUpY1mL1ivFjL7e/GFq4+4zfaksrgiSAcI='\n",
      "Decrypted string: password\n"
     ]
    }
   ],
   "source": [
    "from Crypto.Cipher import AES\n",
    "import base64\n",
    "import os\n",
    "\n",
    "BLOCK_SIZE = 32\n",
    "PADDING = '{'\n",
    "\n",
    "pad = lambda s: s + (BLOCK_SIZE - len(s) % BLOCK_SIZE) * PADDING\n",
    "EncodeAES = lambda c, s: base64.b64encode(c.encrypt(pad(s)))\n",
    "DecodeAES = lambda c, e: c.decrypt(base64.b64decode(e)).decode(\"UTF-8\").rstrip(PADDING)\n",
    "\n",
    "secret = os.urandom(BLOCK_SIZE)\n",
    "cipher = AES.new(secret)\n",
    "\n",
    "encoded = EncodeAES(cipher, 'password')\n",
    "print ('Encrypted string:', encoded)\n",
    "\n",
    "decoded = DecodeAES(cipher, encoded)\n",
    "print ('Decrypted string:', decoded)"
   ]
  },
  {
   "cell_type": "markdown",
   "metadata": {},
   "source": [
    "# RSA ( Ron Rivest, Adi Shamir, and Len Adleman)  public-key cryptosystems"
   ]
  },
  {
   "cell_type": "code",
   "execution_count": 19,
   "metadata": {
    "collapsed": false
   },
   "outputs": [
    {
     "name": "stdout",
     "output_type": "stream",
     "text": [
      "<_RSAobj @0x7f3ace2f24e0 n(1024),e,d,p,q,u,private>\n",
      "True\n",
      "True\n",
      "True\n"
     ]
    }
   ],
   "source": [
    "from Crypto.PublicKey import RSA\n",
    "from Crypto import Random\n",
    "random_generator = Random.new().read\n",
    "key = RSA.generate(1024, random_generator)\n",
    "print(key)\n",
    "print(key.can_encrypt())\n",
    "print(key.can_sign())\n",
    "print(key.has_private())"
   ]
  },
  {
   "cell_type": "code",
   "execution_count": 20,
   "metadata": {
    "collapsed": false
   },
   "outputs": [
    {
     "name": "stdout",
     "output_type": "stream",
     "text": [
      "<_RSAobj @0x7f3acc055dd8 n(1024),e>\n",
      "(b'\\x04\\xc7\\xcd\\t\\x83\\x01;\\xc4L\\x9d\\xf4\\xce\\xf6!\\x195#\\x19G\\x82\\xcd\\r@\\xcd\\x19\\xc4\\x7f\\xd5\\xa7\\x01*\\xeb=\\x80\\xa9\\x8f\\xad;\\xf5%l{\\x99\\x83o1C\\xe9\\x1b\\xd1)f\\xaa\\xf9\\xc2<F6=\\'kf\\x94F\\xfe9\\x0b\\x89\\xad\\xc2\\xe9\\x98\\x882\\xbd\\x876F\\xe4\\x90\\xc6Y\\x9d\\xf9\\xc3\\x8e\\x06\\xbe\\x16\\xd2\\x90\\xa3L\\x9dp\\x15\\xe2\\xfb\\x04\\x82\\xb8[\\x8eW\\xa3tP\\x9b=\\x18\\x9e\\xe8\\xe5\\xbd\\xff\\x07\\xd8\\xdbn\\xafr\\x88v\\x12\\xc3Kb\"',)\n",
      "b'secret'\n"
     ]
    }
   ],
   "source": [
    "pk = key.publickey()\n",
    "print(pk)\n",
    "enc_data = pk.encrypt('secret'.encode('utf-8'), 1024)\n",
    "print(enc_data)\n",
    "message = key.decrypt(enc_data)\n",
    "print(message)"
   ]
  },
  {
   "cell_type": "markdown",
   "metadata": {},
   "source": [
    "# Hashing SHA-2 and SHA-1"
   ]
  },
  {
   "cell_type": "code",
   "execution_count": 21,
   "metadata": {
    "collapsed": false
   },
   "outputs": [
    {
     "name": "stdout",
     "output_type": "stream",
     "text": [
      "b\"+\\xb8\\rS{\\x1d\\xa3\\xe3\\x8b\\xd3\\x03a\\xaa\\x85V\\x86\\xbd\\xe0\\xea\\xcdqb\\xfe\\xf6\\xa2_\\xe9{\\xf5'\\xa2[\"\n"
     ]
    }
   ],
   "source": [
    "from Crypto.Hash import SHA256\n",
    "from Crypto.PublicKey import RSA\n",
    "from Crypto import Random\n",
    "key = RSA.generate(1024, random_generator)\n",
    "text = 'secret'\n",
    "hash = SHA256.new(text.encode('utf-8')).digest()\n",
    "print (hash)"
   ]
  },
  {
   "cell_type": "code",
   "execution_count": 22,
   "metadata": {
    "collapsed": false
   },
   "outputs": [
    {
     "name": "stdout",
     "output_type": "stream",
     "text": [
      "b\"&\\x9f\\xe3\\x9a\\x86\\x11u\\xd5\\xd5e\\xa8\\xb93'H\\x14\\xe8\\xc4Q-\"\n",
      "b\"c\\xf1K~'\\x05\\xd0\\x95\\xd3F\\xe0]x3^\\x0eU\\x0f\\x1db\\xbcf\\xa9a\\x8el\\xd2|\\x90\\x14\\x0e\\x1d\"\n"
     ]
    }
   ],
   "source": [
    "import hashlib\n",
    "\n",
    "print (hashlib.sha1(\"this is my awesome password\".encode('utf-8')).digest() )\n",
    "print (hashlib.sha256(\"another awesome password\".encode('utf-8')).digest() )"
   ]
  },
  {
   "cell_type": "markdown",
   "metadata": {},
   "source": [
    "# Signature"
   ]
  },
  {
   "cell_type": "code",
   "execution_count": 23,
   "metadata": {
    "collapsed": false
   },
   "outputs": [
    {
     "name": "stdout",
     "output_type": "stream",
     "text": [
      "True\n"
     ]
    }
   ],
   "source": [
    "signature = key.sign(hash, '')\n",
    "text = 'secret'\n",
    "hash = SHA256.new(text.encode('utf-8')).digest()\n",
    "print(key.verify(hash, signature))"
   ]
  }
 ],
 "metadata": {
  "kernelspec": {
   "display_name": "Python 3",
   "language": "python",
   "name": "python3"
  },
  "language_info": {
   "codemirror_mode": {
    "name": "ipython",
    "version": 3
   },
   "file_extension": ".py",
   "mimetype": "text/x-python",
   "name": "python",
   "nbconvert_exporter": "python",
   "pygments_lexer": "ipython3",
   "version": "3.5.1"
  }
 },
 "nbformat": 4,
 "nbformat_minor": 0
}
